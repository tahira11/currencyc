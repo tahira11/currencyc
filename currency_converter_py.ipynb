{
  "nbformat": 4,
  "nbformat_minor": 0,
  "metadata": {
    "colab": {
      "provenance": [],
      "authorship_tag": "ABX9TyPYK8U94lJUhcAFq3a+AB3M",
      "include_colab_link": true
    },
    "kernelspec": {
      "name": "python3",
      "display_name": "Python 3"
    },
    "language_info": {
      "name": "python"
    }
  },
  "cells": [
    {
      "cell_type": "markdown",
      "metadata": {
        "id": "view-in-github",
        "colab_type": "text"
      },
      "source": [
        "<a href=\"https://colab.research.google.com/github/tahira11/currencyc/blob/main/currency_converter_py.ipynb\" target=\"_parent\"><img src=\"https://colab.research.google.com/assets/colab-badge.svg\" alt=\"Open In Colab\"/></a>"
      ]
    },
    {
      "cell_type": "code",
      "source": [
        "import streamlit as st\n",
        "from forex_python.converter import CurrencyRates\n",
        "\n",
        "# Create a CurrencyRates object\n",
        "c = CurrencyRates()\n",
        "\n",
        "# Streamlit App Title\n",
        "st.title(\"💸 Currency Converter\")\n",
        "\n",
        "# App subtitle\n",
        "st.markdown(\"### Convert currencies easily with real-time rates 🌍💱\")\n",
        "\n",
        "# Sidebar configuration for user input\n",
        "st.sidebar.header(\"Currency Converter Settings\")\n",
        "\n",
        "# Input from user: Amount, From Currency, To Currency\n",
        "amount = st.sidebar.number_input(\"Enter amount\", min_value=0.0, value=100.0)\n",
        "from_currency = st.sidebar.text_input(\"From Currency (e.g., USD)\", value=\"USD\").upper()\n",
        "to_currency = st.sidebar.text_input(\"To Currency (e.g., EUR)\", value=\"EUR\").upper()\n",
        "\n",
        "# Currency conversion logic\n",
        "if st.sidebar.button(\"Convert\"):\n",
        "    try:\n",
        "        # Get the conversion rate\n",
        "        conversion_rate = c.get_rate(from_currency, to_currency)\n",
        "        converted_amount = conversion_rate * amount\n",
        "\n",
        "        # Displaying the result\n",
        "        st.success(f\"💱 {amount} {from_currency} = {converted_amount:.2f} {to_currency}\")\n",
        "        st.write(f\"Exchange Rate: 1 {from_currency} = {conversion_rate:.4f} {to_currency}\")\n",
        "\n",
        "    except Exception as e:\n",
        "        st.error(f\"Error: {str(e)}\")\n"
      ],
      "metadata": {
        "colab": {
          "base_uri": "https://localhost:8080/"
        },
        "id": "COYO9PzsoviE",
        "outputId": "59f21b49-8a76-453b-8547-e5781dbf6ac0"
      },
      "execution_count": 15,
      "outputs": [
        {
          "output_type": "stream",
          "name": "stderr",
          "text": [
            "2024-10-16 18:42:11.556 Thread 'MainThread': missing ScriptRunContext! This warning can be ignored when running in bare mode.\n",
            "2024-10-16 18:42:11.564 Thread 'MainThread': missing ScriptRunContext! This warning can be ignored when running in bare mode.\n",
            "2024-10-16 18:42:11.567 Thread 'MainThread': missing ScriptRunContext! This warning can be ignored when running in bare mode.\n",
            "2024-10-16 18:42:11.570 Thread 'MainThread': missing ScriptRunContext! This warning can be ignored when running in bare mode.\n",
            "2024-10-16 18:42:11.573 Thread 'MainThread': missing ScriptRunContext! This warning can be ignored when running in bare mode.\n",
            "2024-10-16 18:42:11.575 Thread 'MainThread': missing ScriptRunContext! This warning can be ignored when running in bare mode.\n",
            "2024-10-16 18:42:11.577 Thread 'MainThread': missing ScriptRunContext! This warning can be ignored when running in bare mode.\n",
            "2024-10-16 18:42:11.579 Thread 'MainThread': missing ScriptRunContext! This warning can be ignored when running in bare mode.\n",
            "2024-10-16 18:42:11.581 Thread 'MainThread': missing ScriptRunContext! This warning can be ignored when running in bare mode.\n",
            "2024-10-16 18:42:11.582 Thread 'MainThread': missing ScriptRunContext! This warning can be ignored when running in bare mode.\n",
            "2024-10-16 18:42:11.585 Thread 'MainThread': missing ScriptRunContext! This warning can be ignored when running in bare mode.\n",
            "2024-10-16 18:42:11.586 Thread 'MainThread': missing ScriptRunContext! This warning can be ignored when running in bare mode.\n",
            "2024-10-16 18:42:11.589 Thread 'MainThread': missing ScriptRunContext! This warning can be ignored when running in bare mode.\n",
            "2024-10-16 18:42:11.590 Thread 'MainThread': missing ScriptRunContext! This warning can be ignored when running in bare mode.\n",
            "2024-10-16 18:42:11.594 Thread 'MainThread': missing ScriptRunContext! This warning can be ignored when running in bare mode.\n",
            "2024-10-16 18:42:11.597 Thread 'MainThread': missing ScriptRunContext! This warning can be ignored when running in bare mode.\n",
            "2024-10-16 18:42:11.599 Thread 'MainThread': missing ScriptRunContext! This warning can be ignored when running in bare mode.\n",
            "2024-10-16 18:42:11.604 Thread 'MainThread': missing ScriptRunContext! This warning can be ignored when running in bare mode.\n",
            "2024-10-16 18:42:11.606 Thread 'MainThread': missing ScriptRunContext! This warning can be ignored when running in bare mode.\n",
            "2024-10-16 18:42:11.608 Thread 'MainThread': missing ScriptRunContext! This warning can be ignored when running in bare mode.\n",
            "2024-10-16 18:42:11.610 Thread 'MainThread': missing ScriptRunContext! This warning can be ignored when running in bare mode.\n",
            "2024-10-16 18:42:11.616 Thread 'MainThread': missing ScriptRunContext! This warning can be ignored when running in bare mode.\n",
            "2024-10-16 18:42:11.620 Thread 'MainThread': missing ScriptRunContext! This warning can be ignored when running in bare mode.\n",
            "2024-10-16 18:42:11.622 Thread 'MainThread': missing ScriptRunContext! This warning can be ignored when running in bare mode.\n",
            "2024-10-16 18:42:11.632 Thread 'MainThread': missing ScriptRunContext! This warning can be ignored when running in bare mode.\n",
            "2024-10-16 18:42:11.635 Thread 'MainThread': missing ScriptRunContext! This warning can be ignored when running in bare mode.\n",
            "2024-10-16 18:42:11.637 Thread 'MainThread': missing ScriptRunContext! This warning can be ignored when running in bare mode.\n",
            "2024-10-16 18:42:11.639 Thread 'MainThread': missing ScriptRunContext! This warning can be ignored when running in bare mode.\n",
            "2024-10-16 18:42:11.641 Thread 'MainThread': missing ScriptRunContext! This warning can be ignored when running in bare mode.\n"
          ]
        }
      ]
    }
  ]
}